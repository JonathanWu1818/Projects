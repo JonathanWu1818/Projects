{
 "cells": [
  {
   "cell_type": "code",
   "execution_count": 1,
   "id": "ab9f6488",
   "metadata": {},
   "outputs": [],
   "source": [
    "import pandas as pd\n",
    "import os"
   ]
  },
  {
   "cell_type": "code",
   "execution_count": 12,
   "id": "b8f69838",
   "metadata": {},
   "outputs": [
    {
     "name": "stdout",
     "output_type": "stream",
     "text": [
      "a2/\n",
      "    games/\n",
      "        NAmatch.csv\n",
      "        description.txt\n",
      "        KRmatch.csv\n",
      "        EUmatch.csv\n",
      "    twitter/\n",
      "        RPI_Expertise_2016_Features.csv\n",
      "        twitter_expertise.pdf\n",
      "    weather/\n",
      "        weather_data.csv\n",
      "        description.txt\n",
      "        price_demand_data.csv\n"
     ]
    }
   ],
   "source": [
    "# List all datasets and accompanying files\n",
    "\n",
    "DATA_PATH = \"/course/data/a2\"\n",
    "\n",
    "for root, dirs, files in os.walk(DATA_PATH):\n",
    "        level = root.replace(DATA_PATH, '').count(os.sep)\n",
    "        indent = ' ' * 4 * (level)\n",
    "        print('{}{}/'.format(indent, os.path.basename(root)))\n",
    "        subindent = ' ' * 4 * (level + 1)\n",
    "        for f in files:\n",
    "            print('{}{}'.format(subindent, f))"
   ]
  }
 ],
 "metadata": {
  "kernelspec": {
   "display_name": "Python 3 (ipykernel)",
   "language": "python",
   "name": "python3"
  },
  "language_info": {
   "codemirror_mode": {
    "name": "ipython",
    "version": 3
   },
   "file_extension": ".py",
   "mimetype": "text/x-python",
   "name": "python",
   "nbconvert_exporter": "python",
   "pygments_lexer": "ipython3",
   "version": "3.10.2"
  }
 },
 "nbformat": 4,
 "nbformat_minor": 5
}
