{
    "metadata": {
        "kernelspec": {
            "name": "python3",
            "display_name": "Python 3 (ipykernel)",
            "language": "python"
        }
    },
    "nbformat": 4,
    "nbformat_minor": 5,
    "cells": [
        {
            "cell_type": "code",
            "execution_count": 5,
            "metadata": {},
            "outputs": [],
            "source": [
                "import pandas as pd\n",
                "import os"
            ]
        },
        {
            "cell_type": "code",
            "execution_count": 6,
            "metadata": {},
            "outputs": [
                {
                    "ename": "SyntaxError",
                    "evalue": "invalid syntax (4210419880.py, line 5)",
                    "output_type": "error",
                    "traceback": [
                        "\u001b[0;36m  Input \u001b[0;32mIn [1]\u001b[0;36m\u001b[0m\n\u001b[0;31m    fo root, dirs, files in os.walk(DATA_PATH):\u001b[0m\n\u001b[0m       ^\u001b[0m\n\u001b[0;31mSyntaxError\u001b[0m\u001b[0;31m:\u001b[0m invalid syntax\n"
                    ]
                }
            ],
            "source": [
                "# List all datasets and accompanying files\n",
                "\n",
                "DATA_PATH = \"/course/data/a2\"\n",
                "\n",
                "fo root, dirs, files in os.walk(DATA_PATH):\n",
                "        level = root.replace(DATA_PATH, '').count(os.sep)\n",
                "        indent = ' ' * 4 * (level)\n",
                "        print('{}{}/'.format(indent, os.path.basename(root)))\n",
                "        subindent = ' ' * 4 * (level + 1)\n",
                "        for f in files:\n",
                "            print('{}{}'.format(subindent, f))"
            ]
        },
        {
            "cell_type": "code",
            "execution_count": 3,
            "metadata": {},
            "outputs": [],
            "source": [
                "f = open('/course/data/a2/games/NAmatch.csv')"
            ]
        },
        {
            "cell_type": "code",
            "execution_count": 0,
            "metadata": {},
            "outputs": [],
            "source": [
                ""
            ]
        },
        {
            "cell_type": "code",
            "execution_count": 0,
            "metadata": {},
            "outputs": [],
            "source": [
                ""
            ]
        }
    ]
}
